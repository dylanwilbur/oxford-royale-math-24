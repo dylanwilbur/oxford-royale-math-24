{
 "cells": [
  {
   "cell_type": "markdown",
   "metadata": {},
   "source": [
    "# Approximating sqrt(3) and Graphing in Python\n",
    "\n",
    "This jupyter notebook will go into some of the code we looked at yesterday about approximating the square root of 3. Reference the lecture slides [here](https://dylanwilbur.github.io/oxford-royale-math-24/static_files/materials/lec3.pdf).\n",
    "\n",
    "We will also use some code to draw graphs using the programming library `mamim`, written by 3blue1brown.\n"
   ]
  },
  {
   "cell_type": "markdown",
   "metadata": {},
   "source": [
    "### Setting up Manim(and installing python packages)"
   ]
  },
  {
   "cell_type": "markdown",
   "metadata": {},
   "source": [
    "Run the code block below. `pip` is our python package manager, and we can use code that other people wrote."
   ]
  },
  {
   "cell_type": "code",
   "execution_count": null,
   "metadata": {},
   "outputs": [],
   "source": [
    "!pip install manim"
   ]
  },
  {
   "cell_type": "markdown",
   "metadata": {},
   "source": [
    "Below, we need to import the code that we installed."
   ]
  },
  {
   "cell_type": "code",
   "execution_count": 1,
   "metadata": {},
   "outputs": [],
   "source": [
    "from manim import *"
   ]
  },
  {
   "cell_type": "markdown",
   "metadata": {},
   "source": [
    "## Visualizing Our cube root approximation graph\n",
    "\n",
    "Try changing some of the variables in the code, and see what happens!"
   ]
  },
  {
   "cell_type": "code",
   "execution_count": 72,
   "metadata": {},
   "outputs": [
    {
     "data": {
      "text/html": [
       "<pre style=\"white-space:pre;overflow-x:auto;line-height:normal;font-family:Menlo,'DejaVu Sans Mono',consolas,'Courier New',monospace\">Manim Community <span style=\"color: #008000; text-decoration-color: #008000\">v0.18.1</span>\n",
       "\n",
       "</pre>\n"
      ],
      "text/plain": [
       "Manim Community \u001b[32mv0.\u001b[0m\u001b[32m18.1\u001b[0m\n",
       "\n"
      ]
     },
     "metadata": {},
     "output_type": "display_data"
    },
    {
     "name": "stderr",
     "output_type": "stream",
     "text": [
      "                                                                                    \r"
     ]
    },
    {
     "name": "stdout",
     "output_type": "stream",
     "text": [
      "2.8\n"
     ]
    },
    {
     "data": {
      "text/html": [
       "<video src=\"media/jupyter/PlotGraph@2024-07-17@23-16-43.mp4\" controls autoplay loop style=\"max-width: 60%;\"  >\n",
       "      Your browser does not support the <code>video</code> element.\n",
       "    </video>"
      ],
      "text/plain": [
       "<IPython.core.display.Video object>"
      ]
     },
     "metadata": {},
     "output_type": "display_data"
    }
   ],
   "source": [
    "%%manim -qm -v WARNING PlotGraph\n",
    "\n",
    "\n",
    "class PlotGraph(Scene):\n",
    "    def construct(self):\n",
    "        axes = Axes(\n",
    "            x_range=[-5, 5, 1],\n",
    "            y_range=[0, 125, 25],\n",
    "            axis_config={\"include_numbers\": True},\n",
    "        )\n",
    "\n",
    "        # Change These\n",
    "        increment = .4\n",
    "        cube = 26\n",
    "        epsilon = 10\n",
    "\n",
    "        # Don't Change These\n",
    "        animation_speed = 1\n",
    "        guess = 0\n",
    "        num_guesses = 0\n",
    "\n",
    "        # Define the function\n",
    "        def func(x):\n",
    "            return abs(x**3 - cube)\n",
    "        \n",
    "        def func2(x):\n",
    "            return epsilon\n",
    "\n",
    "\n",
    "        # Add a point at (0, 27) and label it\n",
    "        point = Dot(axes.c2p(guess, 27), color=YELLOW)\n",
    "        point_label = MathTex(\"(0, 27)\").next_to(point, UP)\n",
    "        \n",
    "        # Plot the second function (dotted line)\n",
    "        graph2 = axes.plot(func2, color=RED, use_smoothing=False)\n",
    "\n",
    "        # Plot the function\n",
    "        graph = axes.plot(func, color=BLUE)\n",
    "\n",
    "        # Add labels to the axes\n",
    "        x_label = axes.get_x_axis_label(Tex(\"x\"))\n",
    "        y_label = axes.get_y_axis_label(Tex(\"y\"))\n",
    "\n",
    "\n",
    "        # Add the graph and labels to the scene\n",
    "        self.add(axes, graph, graph2, point, point_label, x_label, y_label)\n",
    "        # self.play(point.animate.move_to(RIGHT))\n",
    "\n",
    "\n",
    "        while(func(guess) >= epsilon):\n",
    "            guess += increment\n",
    "            num_guesses += 1\n",
    "\n",
    "            # Animate our changes\n",
    "            new_point = axes.c2p(guess, func(guess))\n",
    "            new_label = MathTex(f\"({guess}, {(func(guess))})\").next_to(new_point, UP)\n",
    "            self.play(AnimationGroup(point.animate.move_to(new_point), Transform(point_label, new_label), Wait(animation_speed)))\n",
    "\n",
    "            # \n",
    "            if guess>5:\n",
    "                break\n",
    "\n",
    "        # Some time to think\n",
    "        self.play(Wait(5))\n",
    "\n",
    "        print(guess)"
   ]
  },
  {
   "cell_type": "markdown",
   "metadata": {},
   "source": [
    "# Bisection Search"
   ]
  },
  {
   "cell_type": "code",
   "execution_count": 2,
   "metadata": {},
   "outputs": [
    {
     "data": {
      "text/html": [
       "<pre style=\"white-space:pre;overflow-x:auto;line-height:normal;font-family:Menlo,'DejaVu Sans Mono',consolas,'Courier New',monospace\">Manim Community <span style=\"color: #008000; text-decoration-color: #008000\">v0.18.1</span>\n",
       "\n",
       "</pre>\n"
      ],
      "text/plain": [
       "Manim Community \u001b[32mv0.\u001b[0m\u001b[32m18.1\u001b[0m\n",
       "\n"
      ]
     },
     "metadata": {},
     "output_type": "display_data"
    },
    {
     "name": "stderr",
     "output_type": "stream",
     "text": [
      "                                                                                    \r"
     ]
    },
    {
     "name": "stdout",
     "output_type": "stream",
     "text": [
      "2.953125\n"
     ]
    },
    {
     "data": {
      "text/html": [
       "<video src=\"media/jupyter/PlotGraph@2024-07-18@23-17-38.mp4\" controls autoplay loop style=\"max-width: 60%;\"  >\n",
       "      Your browser does not support the <code>video</code> element.\n",
       "    </video>"
      ],
      "text/plain": [
       "<IPython.core.display.Video object>"
      ]
     },
     "metadata": {},
     "output_type": "display_data"
    }
   ],
   "source": [
    "%%manim -qm -v WARNING PlotGraph\n",
    "\n",
    "\n",
    "class PlotGraph(Scene):\n",
    "    def construct(self):\n",
    "        axes = Axes(\n",
    "            x_range=[-5, 15, 1],\n",
    "            y_range=[0, 125, 25],\n",
    "            axis_config={\"include_numbers\": True},\n",
    "        )\n",
    "\n",
    "        # Change These\n",
    "        cube = 27\n",
    "        epsilon = 10\n",
    "\n",
    "        # Don't Change These\n",
    "        animation_speed = 1\n",
    "        num_guesses = 0\n",
    "        low = 0\n",
    "        high = cube\n",
    "        guess = (high+low)/2\n",
    "\n",
    "        # Define the function\n",
    "        def func(x):\n",
    "            return abs(x**3 - cube)\n",
    "        \n",
    "        def func2(x):\n",
    "            return epsilon\n",
    "\n",
    "\n",
    "        # Add a point at (0, 27) and label it\n",
    "        point = Dot(axes.c2p(guess, 0), color=YELLOW)\n",
    "        point_label = MathTex(\"13.5, 0\").next_to(point, UP)\n",
    "        \n",
    "        # Plot the second function (dotted line)\n",
    "        graph2 = axes.plot(func2, color=RED, use_smoothing=False)\n",
    "\n",
    "        # Plot the function\n",
    "        graph = axes.plot(func, color=BLUE)\n",
    "\n",
    "        # Add labels to the axes\n",
    "        x_label = axes.get_x_axis_label(Tex(\"x\"))\n",
    "        y_label = axes.get_y_axis_label(Tex(\"y\"))\n",
    "\n",
    "\n",
    "        # Add the graph and labels to the scene\n",
    "        self.add(axes, graph, graph2, point, point_label, x_label, y_label)\n",
    "        # self.play(point.animate.move_to(RIGHT))\n",
    "\n",
    "        self.play(Wait(2))\n",
    "\n",
    "\n",
    "        while(func(guess) >= epsilon):\n",
    "            if guess**3 < cube :\n",
    "                low = guess\n",
    "            else:\n",
    "                high = guess\n",
    "            guess = (high + low)/2.0\n",
    "            num_guesses += 1\n",
    "\n",
    "            # Animate our changes\n",
    "            new_point = axes.c2p(guess, 0)\n",
    "            new_label = MathTex(f\"({guess}, {(func(guess))})\").next_to(new_point, UP)\n",
    "            self.play(AnimationGroup(point.animate.move_to(new_point), Transform(point_label, new_label), Wait(animation_speed)))\n",
    "\n",
    "            # \n",
    "\n",
    "        # Some time to think\n",
    "        self.play(Wait(5))\n",
    "\n",
    "        print(guess)"
   ]
  },
  {
   "cell_type": "code",
   "execution_count": 5,
   "metadata": {},
   "outputs": [
    {
     "data": {
      "text/html": [
       "<pre style=\"white-space:pre;overflow-x:auto;line-height:normal;font-family:Menlo,'DejaVu Sans Mono',consolas,'Courier New',monospace\">Manim Community <span style=\"color: #008000; text-decoration-color: #008000\">v0.18.1</span>\n",
       "\n",
       "</pre>\n"
      ],
      "text/plain": [
       "Manim Community \u001b[32mv0.\u001b[0m\u001b[32m18.1\u001b[0m\n",
       "\n"
      ]
     },
     "metadata": {},
     "output_type": "display_data"
    },
    {
     "name": "stderr",
     "output_type": "stream",
     "text": [
      "                                                                                         \r"
     ]
    },
    {
     "name": "stdout",
     "output_type": "stream",
     "text": [
      "3.0\n"
     ]
    },
    {
     "data": {
      "text/html": [
       "<video src=\"media/jupyter/PlotGraph@2024-07-18@23-20-41.mp4\" controls autoplay loop style=\"max-width: 60%;\"  >\n",
       "      Your browser does not support the <code>video</code> element.\n",
       "    </video>"
      ],
      "text/plain": [
       "<IPython.core.display.Video object>"
      ]
     },
     "metadata": {},
     "output_type": "display_data"
    }
   ],
   "source": [
    "%%manim -qm -v WARNING PlotGraph\n",
    "\n",
    "class PlotGraph(Scene):\n",
    "    def construct(self):\n",
    "        axes = Axes(\n",
    "            x_range=[-5, 5, 1],\n",
    "            y_range=[-100, 100, 25],\n",
    "            axis_config={\"include_numbers\": True},\n",
    "        )\n",
    "\n",
    "        # Newton's Method parameters\n",
    "        initial_guess = 3\n",
    "        epsilon = 5\n",
    "        max_iterations = 10\n",
    "        animation_speed = 1\n",
    "\n",
    "        # Define the function and its derivative\n",
    "        def func(x):\n",
    "            return x**3 - 27\n",
    "        \n",
    "        def func_derivative(x):\n",
    "            return 3 * x**2\n",
    "\n",
    "        # Add initial point and label\n",
    "        guess = initial_guess\n",
    "        point = Dot(axes.c2p(guess, func(guess)), color=YELLOW)\n",
    "        point_label = MathTex(f\"({guess:.2f}, {func(guess):.2f})\").next_to(point, UP)\n",
    "        \n",
    "        # Plot the function\n",
    "        graph = axes.plot(func, color=BLUE)\n",
    "\n",
    "        # Add labels to the axes\n",
    "        x_label = axes.get_x_axis_label(Tex(\"x\"))\n",
    "        y_label = axes.get_y_axis_label(Tex(\"y\"))\n",
    "\n",
    "        # Add the graph and labels to the scene\n",
    "        self.add(axes, graph, point, point_label, x_label, y_label)\n",
    "\n",
    "        # Iterate using Newton's Method\n",
    "        for _ in range(max_iterations):\n",
    "            tangent_line = axes.plot(\n",
    "                lambda x: func(guess) + func_derivative(guess) * (x - guess)\n",
    "            )\n",
    "            \n",
    "            new_guess = guess - func(guess) / func_derivative(guess)\n",
    "            \n",
    "            # Add tangent line and animate changes\n",
    "            new_point = Dot(axes.c2p(new_guess, 0), color=YELLOW)\n",
    "            new_label = MathTex(f\"({new_guess:.2f}, 0)\").next_to(new_point, UP)\n",
    "            \n",
    "            self.play(Create(tangent_line))\n",
    "            self.play(AnimationGroup(\n",
    "                point.animate.move_to(new_point),\n",
    "                Transform(point_label, new_label),\n",
    "                Wait(animation_speed)\n",
    "            ))\n",
    "            \n",
    "            # Remove the tangent line before the next iteration\n",
    "            self.remove(tangent_line)\n",
    "\n",
    "            # Update guess\n",
    "            guess = new_guess\n",
    "            \n",
    "            # Break if we're close enough\n",
    "            if abs(func(guess)) < epsilon:\n",
    "                break\n",
    "\n",
    "        # Some time to think\n",
    "        self.play(Wait(5))\n",
    "\n",
    "        print(guess)"
   ]
  }
 ],
 "metadata": {
  "kernelspec": {
   "display_name": "Python 3",
   "language": "python",
   "name": "python3"
  },
  "language_info": {
   "codemirror_mode": {
    "name": "ipython",
    "version": 3
   },
   "file_extension": ".py",
   "mimetype": "text/x-python",
   "name": "python",
   "nbconvert_exporter": "python",
   "pygments_lexer": "ipython3",
   "version": "3.11.7"
  }
 },
 "nbformat": 4,
 "nbformat_minor": 2
}
