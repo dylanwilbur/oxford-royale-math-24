{
 "cells": [
  {
   "cell_type": "markdown",
   "metadata": {},
   "source": [
    "# Algorithm 1"
   ]
  },
  {
   "cell_type": "code",
   "execution_count": null,
   "metadata": {},
   "outputs": [],
   "source": [
    "cube = 9\n",
    "for guess in range(cube+1):\n",
    "    if guess**3 == cube:\n",
    "        print(\"Cube root of\", cube, \"is\", guess)"
   ]
  },
  {
   "cell_type": "markdown",
   "metadata": {},
   "source": [
    "# Algorithm 2"
   ]
  },
  {
   "cell_type": "code",
   "execution_count": null,
   "metadata": {},
   "outputs": [],
   "source": [
    "cube = -8\n",
    "for guess in range(abs(cube)+1):\n",
    "    if guess**3 >= abs(cube):\n",
    "        break\n",
    "if guess**3 != abs(cube):\n",
    "    print(cube, 'is not a perfect cube')\n",
    "else:\n",
    "    if cube < 0:\n",
    "        guess = -guess\n",
    "    print('Cube root of '+str(cube)+' is '+str(guess))"
   ]
  },
  {
   "cell_type": "markdown",
   "metadata": {},
   "source": [
    "# Algorithm 3"
   ]
  },
  {
   "cell_type": "code",
   "execution_count": null,
   "metadata": {},
   "outputs": [],
   "source": [
    "cube = 27\n",
    "epsilon = 0.01\n",
    "guess = 0.0\n",
    "increment = 0.0001\n",
    "num_guesses = 0\n",
    "while abs(guess**3 - cube) >= epsilon:\n",
    "    guess += increment\n",
    "    num_guesses += 1\n",
    "print('num_guesses =', num_guesses)\n",
    "if abs(guess**3 - cube) >= epsilon:\n",
    "    print('Failed on cube root of', cube)\n",
    "else:\n",
    "    print(guess, 'is close to the cube root of', cube)"
   ]
  },
  {
   "cell_type": "markdown",
   "metadata": {},
   "source": [
    "# Algorithm 4"
   ]
  },
  {
   "cell_type": "code",
   "execution_count": null,
   "metadata": {},
   "outputs": [],
   "source": [
    "cube = 27\n",
    "epsilon = 0.01\n",
    "num_guesses = 0\n",
    "low = 0\n",
    "high = cube\n",
    "guess = (high + low)/2.0\n",
    "while abs(guess**3 - cube) >= epsilon:\n",
    "    if guess**3 < cube :\n",
    "        low = guess\n",
    "    else:\n",
    "        high = guess\n",
    "    guess = (high + low)/2.0\n",
    "    num_guesses += 1\n",
    "print ('num_guesses =', num_guesses)\n",
    "print (guess, 'is close to the cube root of', cube)"
   ]
  }
 ],
 "metadata": {
  "language_info": {
   "name": "python"
  }
 },
 "nbformat": 4,
 "nbformat_minor": 2
}
